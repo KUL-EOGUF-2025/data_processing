{
 "cells": [
  {
   "cell_type": "code",
   "execution_count": 12,
   "metadata": {},
   "outputs": [],
   "source": [
    "from signal_processing import plot_fft_vertical_horizontal, plot_signals_interactive, get_data_for_participant, signal_processing\n",
    "from scipy import signal\n",
    "import pandas as pd"
   ]
  },
  {
   "cell_type": "code",
   "execution_count": 18,
   "metadata": {},
   "outputs": [],
   "source": [
    "PARTICIPANT = 1"
   ]
  },
  {
   "cell_type": "code",
   "execution_count": 19,
   "metadata": {},
   "outputs": [],
   "source": [
    "df_final = get_data_for_participant(PARTICIPANT, \"data/raw/\")\n",
    "\n",
    "plot_fft_vertical_horizontal(df_final[\"vertical_value\"], df_final[\"horizontal_value\"], fs=1000,disp_peaks=True, participant=PARTICIPANT).savefig(f\"figures/fft_participant_{PARTICIPANT}.png\")"
   ]
  },
  {
   "cell_type": "code",
   "execution_count": 20,
   "metadata": {},
   "outputs": [],
   "source": [
    "all_data = df_final.resample(\"1ms\").nearest(limit=2).fillna(2.5)\n",
    "\n",
    "lowcut_freq = 0.5\n",
    "highcut_freq = 7.5\n",
    "filter_order = 5\n",
    "\n",
    "sos = signal.butter(filter_order, [lowcut_freq, highcut_freq], btype='band', analog=False, output='sos', fs=1000)\n",
    "\n",
    "all_data['vertical_filtered'] = signal.sosfiltfilt(sos, all_data['vertical_value'])\n",
    "all_data['horizontal_filtered'] = signal.sosfiltfilt(sos, all_data['horizontal_value'])\n",
    "\n",
    "all_data = all_data.resample(\"5ms\").mean()\n",
    "\n",
    "plot_signals_interactive(all_data[10000:], n_samples=50000, title=\"EOG Signal - Before and After Filtering\").savefig(f\"figures/signal_filtered_participant_{PARTICIPANT}.png\")"
   ]
  }
 ],
 "metadata": {
  "kernelspec": {
   "display_name": ".venv",
   "language": "python",
   "name": "python3"
  },
  "language_info": {
   "codemirror_mode": {
    "name": "ipython",
    "version": 3
   },
   "file_extension": ".py",
   "mimetype": "text/x-python",
   "name": "python",
   "nbconvert_exporter": "python",
   "pygments_lexer": "ipython3",
   "version": "3.10.12"
  }
 },
 "nbformat": 4,
 "nbformat_minor": 2
}
