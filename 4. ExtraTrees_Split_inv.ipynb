{
 "cells": [
  {
   "cell_type": "code",
   "execution_count": 1,
   "metadata": {},
   "outputs": [],
   "source": [
    "from preprocess import preprocess_data_flat\n",
    "from sklearn.ensemble import ExtraTreesClassifier\n",
    "from sklearn.model_selection import RandomizedSearchCV, StratifiedKFold\n",
    "from sklearn.model_selection import cross_validate\n",
    "from sklearn.metrics import f1_score, make_scorer, accuracy_score, balanced_accuracy_score, roc_auc_score\n",
    "from tabulate import tabulate "
   ]
  },
  {
   "cell_type": "code",
   "execution_count": 2,
   "metadata": {},
   "outputs": [],
   "source": [
    "X_train_flat, y_train_flat = preprocess_data_flat(\"1\", 30)\n",
    "X_test_flat, y_test_flat = preprocess_data_flat(\"2\", 30)"
   ]
  },
  {
   "cell_type": "code",
   "execution_count": 3,
   "metadata": {},
   "outputs": [
    {
     "name": "stderr",
     "output_type": "stream",
     "text": [
      "/Users/nicolasgutierrez/Documents/Thesis/data_processing/.venv/lib/python3.10/site-packages/sklearn/model_selection/_validation.py:528: FitFailedWarning: \n",
      "20 fits failed out of a total of 50.\n",
      "The score on these train-test partitions for these parameters will be set to nan.\n",
      "If these failures are not expected, you can try to debug them by setting error_score='raise'.\n",
      "\n",
      "Below are more details about the failures:\n",
      "--------------------------------------------------------------------------------\n",
      "20 fits failed with the following error:\n",
      "Traceback (most recent call last):\n",
      "  File \"/Users/nicolasgutierrez/Documents/Thesis/data_processing/.venv/lib/python3.10/site-packages/sklearn/model_selection/_validation.py\", line 866, in _fit_and_score\n",
      "    estimator.fit(X_train, y_train, **fit_params)\n",
      "  File \"/Users/nicolasgutierrez/Documents/Thesis/data_processing/.venv/lib/python3.10/site-packages/sklearn/base.py\", line 1389, in wrapper\n",
      "    return fit_method(estimator, *args, **kwargs)\n",
      "  File \"/Users/nicolasgutierrez/Documents/Thesis/data_processing/.venv/lib/python3.10/site-packages/sklearn/ensemble/_forest.py\", line 431, in fit\n",
      "    raise ValueError(\n",
      "ValueError: `max_sample` cannot be set if `bootstrap=False`. Either switch to `bootstrap=True` or set `max_sample=None`.\n",
      "\n",
      "  warnings.warn(some_fits_failed_message, FitFailedWarning)\n",
      "/Users/nicolasgutierrez/Documents/Thesis/data_processing/.venv/lib/python3.10/site-packages/sklearn/model_selection/_search.py:1108: UserWarning: One or more of the test scores are non-finite: [0.83016595 0.76546898 0.76943723        nan        nan 0.78575036\n",
      "        nan 0.52818182        nan 0.78094517]\n",
      "  warnings.warn(\n"
     ]
    }
   ],
   "source": [
    "model = ExtraTreesClassifier(random_state=123)\n",
    "\n",
    "param_dist = {\n",
    "    \"max_depth\": [2, 3, 4, 5, 6],\n",
    "    \"n_estimators\": [300, 500, 700, 900, 1100],\n",
    "    \"min_samples_split\": [2, 5, 8, 10],\n",
    "    \"min_samples_leaf\": [1, 2, 4, 6],\n",
    "    \"max_features\": [\"sqrt\", \"log2\", None],\n",
    "    \"bootstrap\": [True, False],\n",
    "    \"criterion\": [\"gini\", \"entropy\", \"log_loss\"],\n",
    "    \"class_weight\": [\"balanced\", \"balanced_subsample\", None],\n",
    "    \"max_samples\": [0.6, 0.7, 0.8, 0.9, 1.0]\n",
    "}\n",
    "\n",
    "n_splits = 5\n",
    "cv = StratifiedKFold(n_splits=n_splits, shuffle=True, random_state=123)\n",
    "\n",
    "random_search = RandomizedSearchCV(\n",
    "    model,\n",
    "    param_distributions=param_dist,\n",
    "    scoring=\"balanced_accuracy\",\n",
    "    cv=cv,\n",
    "    random_state=123,\n",
    "    n_jobs=10,\n",
    "    refit=\"balanced_accuracy\",\n",
    "    verbose=0,\n",
    ")\n",
    "\n",
    "random_search.fit(X_train_flat, y_train_flat)\n",
    "best_model = random_search.best_estimator_"
   ]
  },
  {
   "cell_type": "code",
   "execution_count": 4,
   "metadata": {},
   "outputs": [
    {
     "name": "stdout",
     "output_type": "stream",
     "text": [
      "\n",
      "================================================================================\n",
      "CROSS-VALIDATION RESULTS\n",
      "================================================================================\n",
      "\n",
      " RESULTS BY FOLD:\n",
      "+------+-----------+----------+----------+---------+-----------+----------+----------+---------+----------+\n",
      "| Fold | Train Acc | Test Acc | Train BA | Test BA | Train AUC | Test AUC | Train F1 | Test F1 | Time (s) |\n",
      "+------+-----------+----------+----------+---------+-----------+----------+----------+---------+----------+\n",
      "|  1   |  0.9565   |  0.8723  |  0.9215  | 0.8220  |  0.9215   |  0.8220  |  0.9722  | 0.9167  |  0.131   |\n",
      "|  2   |  0.9459   |  0.9783  |  0.9062  | 0.9545  |  0.9062   |  0.9545  |  0.9655  | 0.9859  |  0.129   |\n",
      "|  3   |  0.9568   |  0.8261  |  0.9300  | 0.7299  |  0.9300   |  0.7299  |  0.9722  | 0.8889  |  0.130   |\n",
      "|  4   |  0.9568   |  0.8696  |  0.9313  | 0.7722  |  0.9313   |  0.7722  |  0.9720  | 0.9189  |  0.126   |\n",
      "|  5   |  0.9568   |  0.9130  |  0.9313  | 0.8722  |  0.9313   |  0.8722  |  0.9720  | 0.9444  |  0.127   |\n",
      "+------+-----------+----------+----------+---------+-----------+----------+----------+---------+----------+\n",
      "\n",
      " STATISTICS (Test Set within CV):\n",
      "   • F1 Score            : 0.9310 ± 0.0326\n",
      "   • Accuracy            : 0.8919 ± 0.0512\n",
      "   • Balanced Accuracy   : 0.8302 ± 0.0784\n",
      "   • ROC AUC             : 0.8302 ± 0.0784\n",
      "   • Total Time (s)      : 0.644\n",
      "\n",
      "================================================================================\n",
      "FINAL EVALUATION ON HELD-OUT TEST SET\n",
      "================================================================================\n",
      "   • F1 Score            : 0.7147\n",
      "   • Accuracy            : 0.5560\n",
      "   • Balanced Accuracy   : 0.5000\n",
      "   • ROC AUC             : 0.4972\n",
      "================================================================================\n"
     ]
    }
   ],
   "source": [
    "scoring = {\n",
    "    \"accuracy\": make_scorer(accuracy_score),\n",
    "    \"balanced_accuracy\": make_scorer(balanced_accuracy_score),\n",
    "    \"roc_auc\": make_scorer(roc_auc_score),\n",
    "    \"f1\": make_scorer(f1_score),\n",
    "}\n",
    "\n",
    "\n",
    "cv_results = cross_validate(\n",
    "    best_model,\n",
    "    X_train_flat,\n",
    "    y_train_flat,\n",
    "    cv=cv,\n",
    "    scoring=scoring,\n",
    "    return_train_score=True,\n",
    "    n_jobs=-1,\n",
    ")\n",
    "\n",
    "\n",
    "fold_results = []\n",
    "for i in range(n_splits):\n",
    "    fold_results.append(\n",
    "        {\n",
    "            \"Fold\": i + 1,\n",
    "            \"Train Acc\": f\"{cv_results['train_accuracy'][i]:.4f}\",\n",
    "            \"Test Acc\": f\"{cv_results['test_accuracy'][i]:.4f}\",\n",
    "            \"Train BA\": f\"{cv_results['train_balanced_accuracy'][i]:.4f}\",\n",
    "            \"Test BA\": f\"{cv_results['test_balanced_accuracy'][i]:.4f}\",\n",
    "            \"Train AUC\": f\"{cv_results['train_roc_auc'][i]:.4f}\",\n",
    "            \"Test AUC\": f\"{cv_results['test_roc_auc'][i]:.4f}\",\n",
    "            \"Train F1\": f\"{cv_results['train_f1'][i]:.4f}\",\n",
    "            \"Test F1\": f\"{cv_results['test_f1'][i]:.4f}\",\n",
    "            \"Time (s)\": f\"{cv_results['fit_time'][i] + cv_results['score_time'][i]:.3f}\",\n",
    "        }\n",
    "    )\n",
    "\n",
    "summary_results = {\n",
    "    \"F1 Score\": f\"{cv_results['test_f1'].mean():.4f} ± {cv_results['test_f1'].std():.4f}\",\n",
    "    \"Accuracy\": f\"{cv_results['test_accuracy'].mean():.4f} ± {cv_results['test_accuracy'].std():.4f}\",\n",
    "    \"Balanced Accuracy\": f\"{cv_results['test_balanced_accuracy'].mean():.4f} ± {cv_results['test_balanced_accuracy'].std():.4f}\",\n",
    "    \"ROC AUC\": f\"{cv_results['test_roc_auc'].mean():.4f} ± {cv_results['test_roc_auc'].std():.4f}\",\n",
    "    \"Total Time (s)\": f\"{(cv_results['fit_time'] + cv_results['score_time']).sum():.3f}\",\n",
    "}\n",
    "\n",
    "print(\"\\n\" + \"=\" * 80)\n",
    "print(\"CROSS-VALIDATION RESULTS\")\n",
    "print(\"=\" * 80)\n",
    "\n",
    "print(\"\\n RESULTS BY FOLD:\")\n",
    "print(tabulate(fold_results, headers=\"keys\", tablefmt=\"pretty\"))\n",
    "\n",
    "print(\"\\n STATISTICS (Test Set within CV):\")\n",
    "for metric, value in summary_results.items():\n",
    "    print(f\"   • {metric:<20}: {value}\")\n",
    "\n",
    "\n",
    "print(\"\\n\" + \"=\" * 80)\n",
    "print(\"FINAL EVALUATION ON HELD-OUT TEST SET\")\n",
    "print(\"=\" * 80)\n",
    "y_pred_test = best_model.predict(X_test_flat)\n",
    "y_prob_test = best_model.predict_proba(X_test_flat)[:, 1]\n",
    "\n",
    "test_f1 = f1_score(y_test_flat, y_pred_test)\n",
    "test_accuracy = accuracy_score(y_test_flat, y_pred_test)\n",
    "test_balanced_accuracy = balanced_accuracy_score(y_test_flat, y_pred_test)\n",
    "test_roc_auc = roc_auc_score(y_test_flat, y_prob_test)\n",
    "\n",
    "print(f\"   • {'F1 Score':<20}: {test_f1:.4f}\")\n",
    "print(f\"   • {'Accuracy':<20}: {test_accuracy:.4f}\")\n",
    "print(f\"   • {'Balanced Accuracy':<20}: {test_balanced_accuracy:.4f}\")\n",
    "print(f\"   • {'ROC AUC':<20}: {test_roc_auc:.4f}\")\n",
    "print(\"=\" * 80)"
   ]
  },
  {
   "cell_type": "code",
   "execution_count": 5,
   "metadata": {},
   "outputs": [
    {
     "name": "stdout",
     "output_type": "stream",
     "text": [
      "   • Balanced Accuracy   : 0.5000\n",
      "   • ROC AUC             : 0.4972\n",
      "================================================================================\n"
     ]
    },
    {
     "data": {
      "image/png": "[encoded data removed]",
      "text/plain": [
       "<Figure size 1200x900 with 1 Axes>"
      ]
     },
     "metadata": {},
     "output_type": "display_data"
    }
   ],
   "source": [
    "print(f\"   • {'Balanced Accuracy':<20}: {test_balanced_accuracy:.4f}\")\n",
    "print(f\"   • {'ROC AUC':<20}: {test_roc_auc:.4f}\")\n",
    "print(\"=\" * 80)\n",
    "\n",
    "import matplotlib.pyplot as plt\n",
    "import seaborn as sns\n",
    "from sklearn.metrics import confusion_matrix\n",
    "\n",
    "# Apply styling\n",
    "plt.style.use(\"seaborn-v0_8-white\")\n",
    "sns.set_style(\"white\")\n",
    "sns.set_palette(\"colorblind\")\n",
    "sns.set_context(\"paper\", font_scale=1.2)\n",
    "\n",
    "# Generate confusion matrix\n",
    "cm = confusion_matrix(y_test_flat, y_pred_test)\n",
    "\n",
    "# Plot confusion matrix\n",
    "plt.figure(figsize=(8, 6), dpi=150)\n",
    "sns.heatmap(cm, annot=True, fmt=\"d\", cmap=\"Blues\", cbar=False,\n",
    "            xticklabels=best_model.classes_, yticklabels=best_model.classes_)\n",
    "plt.xlabel(\"Predicted Label\")\n",
    "plt.ylabel(\"True Label\")\n",
    "plt.savefig(\"figures/Confusion.png\")"
   ]
  },
  {
   "cell_type": "code",
   "execution_count": 12,
   "metadata": {},
   "outputs": [
    {
     "data": {
      "text/plain": [
       "array([[  0,  53],\n",
       "       [  3, 175]])"
      ]
     },
     "execution_count": 12,
     "metadata": {},
     "output_type": "execute_result"
    }
   ],
   "source": [
    "cm\n"
   ]
  }
 ],
 "metadata": {
  "kernelspec": {
   "display_name": ".venv",
   "language": "python",
   "name": "python3"
  },
  "language_info": {
   "codemirror_mode": {
    "name": "ipython",
    "version": 3
   },
   "file_extension": ".py",
   "mimetype": "text/x-python",
   "name": "python",
   "nbconvert_exporter": "python",
   "pygments_lexer": "ipython3",
   "version": "3.10.12"
  }
 },
 "nbformat": 4,
 "nbformat_minor": 2
}
